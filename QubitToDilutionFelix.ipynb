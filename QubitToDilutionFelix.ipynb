{
 "cells": [
  {
   "cell_type": "code",
   "execution_count": 11,
   "metadata": {},
   "outputs": [],
   "source": [
    "import pandas as pd"
   ]
  },
  {
   "cell_type": "code",
   "execution_count": 12,
   "metadata": {},
   "outputs": [],
   "source": [
    "dfInput = pd.read_csv('QubitOutput.csv')\n",
    "dfTop = pd.DataFrame(columns=['Source_well', 'Transfer_volume', 'Destination_Well', 'Destination_plate_name', 'Source_plate_name' ])"
   ]
  },
  {
   "cell_type": "code",
   "execution_count": null,
   "metadata": {},
   "outputs": [],
   "source": []
  },
  {
   "cell_type": "code",
   "execution_count": 13,
   "metadata": {},
   "outputs": [],
   "source": [
    "# VolIn = (ConOut * ConOut) / ConIn \n",
    "SampleVolume = 5 # uL of sample used\n",
    "FinalConcentration = 2.5 # nG/uL\n",
    "\n",
    "\n",
    "# Fill waterList with water amount needing to be added to 10uL sample to ubtain concentration of 2.5ng/uL\n",
    "# number rounded to 2 decimal places. \n",
    "waterList = []\n",
    "for i in range(len(dfInput['Original Sample Conc.'])):\n",
    "    SampleConcetration = dfInput['Original Sample Conc.'][i]\n",
    "    WaterAdded = round( ((SampleVolume * SampleConcetration) / FinalConcentration) - SampleVolume) # change from uL to nL\n",
    "    waterList.append(WaterAdded)\n",
    "    #print(WaterAdded)\n",
    "#print(waterList)\n"
   ]
  },
  {
   "cell_type": "code",
   "execution_count": 14,
   "metadata": {},
   "outputs": [
    {
     "data": {
      "text/plain": [
       "\"    # Defines positions for Res6. Each well gets 24 dispensations \\n    if num % 24 != 0:\\n        # OPS OPS Cannot take more than 24*12 before it non existant position A13!\\n        addressPosition = 'AB'[k]  + str(b)\\n    else:\\n        a = int(a)+1\\n        b = b % 3 + 1        \\n        if a == 4:\\n            k = k +1\\n    addressPositionList.append(addressPosition)\""
      ]
     },
     "execution_count": 14,
     "metadata": {},
     "output_type": "execute_result"
    }
   ],
   "source": [
    "DestinationArray = []\n",
    "start = 1\n",
    "a = 1\n",
    "b = 1 # decides source well number(use Res6)\n",
    "k = 0 # decides source well letter(use Res6)\n",
    "addressPositionList = []\n",
    "for num in range(start, len(dfInput['Original Sample Conc.'])+1):\n",
    "    ## Converts destinations into plate format A1, A2 .. A12 ..B1 .. H12\n",
    "    platePosition = 'ABCDEFGH'[(num - 1) // 12] + '%1d' % ((num - 1) % 12 + 1,) #UPPERCASE!!!\n",
    "    #platePosition = 'abcdefgh'[(num - 1) // 12] + '%1d' % ((num - 1) % 12 + 1,) # lowercase\n",
    "    DestinationArray.append(platePosition)\n",
    "\n",
    "\"\"\"    # Defines positions for Res6. Each well gets 24 dispensations \n",
    "    if num % 24 != 0:\n",
    "        # OPS OPS Cannot take more than 24*12 before it non existant position A13!\n",
    "        addressPosition = 'AB'[k]  + str(b)\n",
    "    else:\n",
    "        a = int(a)+1\n",
    "        b = b % 3 + 1        \n",
    "        if a == 4:\n",
    "            k = k +1\n",
    "    addressPositionList.append(addressPosition)\"\"\""
   ]
  },
  {
   "cell_type": "code",
   "execution_count": 15,
   "metadata": {},
   "outputs": [],
   "source": [
    "# load all the data into the df\n",
    "dfTop['Source well'] = addressPositionList\n",
    "dfTop['Source plate name'] = ['Source 1'] * len(dfInput['Original Sample Conc.'])\n",
    "dfTop['Destination plate name'] = ['Dist 1'] * len(dfInput['Original Sample Conc.'])\n",
    "dfTop['Destination Well'] = DestinationArray\n",
    "dfTop['Transfer volume'] = waterList\n",
    "# create SampleVolumeList\n",
    "SampleVolumeList = [10] * len(dfInput['Original Sample Conc.'])\n",
    "#print(dfTop)"
   ]
  },
  {
   "cell_type": "code",
   "execution_count": 16,
   "metadata": {},
   "outputs": [],
   "source": [
    "## Create new data framed called dfButtom\n",
    "#dfButtom = pd.DataFrame(columns=['Address', 'Volume', 'Destination'])\n",
    "# insert the bottom data into it. \n",
    "#dfButtom['Address'] = DestinationArray\n",
    "#dfButtom['Volume'] = SampleVolumeList\n",
    "#dfButtom['Destination'] = DestinationArray\n"
   ]
  },
  {
   "cell_type": "code",
   "execution_count": 17,
   "metadata": {},
   "outputs": [],
   "source": [
    "## Join the data frames into one continius data frame\n",
    "#dfOutput = [dfTop, dfButtom] \n",
    "#Output = pd.concat(dfOutput) \n",
    "#display(result) "
   ]
  },
  {
   "cell_type": "code",
   "execution_count": 18,
   "metadata": {},
   "outputs": [],
   "source": [
    "# convert to CSV file. \n",
    "#gfg_csv_data = Output.to_csv('DilutionForEcho_testOutput.csv', index = False) "
   ]
  },
  {
   "cell_type": "code",
   "execution_count": 19,
   "metadata": {},
   "outputs": [],
   "source": [
    "# convert to CSV file. \n",
    "gfg_csv_data = dfTop.to_csv('DilutionForFelix_testOutput.csv', index = False, sep=\"\\t\") \n"
   ]
  },
  {
   "cell_type": "code",
   "execution_count": null,
   "metadata": {},
   "outputs": [],
   "source": []
  }
 ],
 "metadata": {
  "kernelspec": {
   "display_name": "Python 3",
   "language": "python",
   "name": "python3"
  },
  "language_info": {
   "codemirror_mode": {
    "name": "ipython",
    "version": 3
   },
   "file_extension": ".py",
   "mimetype": "text/x-python",
   "name": "python",
   "nbconvert_exporter": "python",
   "pygments_lexer": "ipython3",
   "version": "3.8.5"
  }
 },
 "nbformat": 4,
 "nbformat_minor": 5
}
